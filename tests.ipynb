{
 "cells": [
  {
   "cell_type": "code",
   "execution_count": 1,
   "id": "5b458691",
   "metadata": {
    "execution": {
     "iopub.execute_input": "2022-10-09T09:39:29.375168Z",
     "iopub.status.busy": "2022-10-09T09:39:29.374150Z",
     "iopub.status.idle": "2022-10-09T09:39:34.730768Z",
     "shell.execute_reply": "2022-10-09T09:39:34.729822Z"
    },
    "id": "COj2-_dfKW3r",
    "papermill": {
     "duration": 5.363887,
     "end_time": "2022-10-09T09:39:34.733523",
     "exception": false,
     "start_time": "2022-10-09T09:39:29.369636",
     "status": "completed"
    },
    "tags": []
   },
   "outputs": [],
   "source": [
    "import tensorflow as tf\n",
    "from tensorflow import keras\n",
    "from tensorflow.keras.models import Sequential\n",
    "from tensorflow.keras.layers import Activation, Dense, Flatten, BatchNormalization, Conv2D, MaxPool2D, Dropout\n",
    "from tensorflow.keras.optimizers import Adam\n",
    "from tensorflow.keras.metrics import categorical_crossentropy\n",
    "from tensorflow.keras.preprocessing.image import ImageDataGenerator"
   ]
  },
  {
   "cell_type": "code",
   "execution_count": 2,
   "id": "e0068e5d",
   "metadata": {
    "execution": {
     "iopub.execute_input": "2022-10-09T09:39:34.739413Z",
     "iopub.status.busy": "2022-10-09T09:39:34.738920Z",
     "iopub.status.idle": "2022-10-09T09:39:34.899750Z",
     "shell.execute_reply": "2022-10-09T09:39:34.898897Z"
    },
    "id": "VUUXRUUVKXAX",
    "papermill": {
     "duration": 0.166228,
     "end_time": "2022-10-09T09:39:34.902225",
     "exception": false,
     "start_time": "2022-10-09T09:39:34.735997",
     "status": "completed"
    },
    "tags": []
   },
   "outputs": [],
   "source": [
    "import cv2\n",
    "import pandas as pd\n",
    "import numpy as np\n",
    "import matplotlib.pyplot as plt\n",
    "import json\n",
    "import os\n",
    "from tqdm import tqdm\n",
    "from keras.models import Sequential\n",
    "from keras.layers import Activation, Dropout, Flatten, Dense\n",
    "from keras.layers import Input, Dense, Activation, BatchNormalization, Flatten, Conv2D\n",
    "from keras.layers import AveragePooling2D, MaxPooling2D, Dropout, GlobalAveragePooling2D\n",
    "from keras.models import Model\n",
    "from keras.models import model_from_json"
   ]
  },
  {
   "cell_type": "code",
   "execution_count": 3,
   "id": "bf0a98b8",
   "metadata": {
    "execution": {
     "iopub.execute_input": "2022-10-09T09:39:34.908253Z",
     "iopub.status.busy": "2022-10-09T09:39:34.907604Z",
     "iopub.status.idle": "2022-10-09T09:39:34.925153Z",
     "shell.execute_reply": "2022-10-09T09:39:34.924207Z"
    },
    "papermill": {
     "duration": 0.022731,
     "end_time": "2022-10-09T09:39:34.927333",
     "exception": false,
     "start_time": "2022-10-09T09:39:34.904602",
     "status": "completed"
    },
    "tags": []
   },
   "outputs": [],
   "source": [
    "labels_t = pd.read_csv(\"../input/datathonindoml-2022/train_labels.csv\")"
   ]
  },
  {
   "cell_type": "code",
   "execution_count": 4,
   "id": "12410b41",
   "metadata": {
    "execution": {
     "iopub.execute_input": "2022-10-09T09:39:34.932592Z",
     "iopub.status.busy": "2022-10-09T09:39:34.932289Z",
     "iopub.status.idle": "2022-10-09T09:39:34.939715Z",
     "shell.execute_reply": "2022-10-09T09:39:34.938781Z"
    },
    "id": "O9jHTf80KXKv",
    "papermill": {
     "duration": 0.012349,
     "end_time": "2022-10-09T09:39:34.941651",
     "exception": false,
     "start_time": "2022-10-09T09:39:34.929302",
     "status": "completed"
    },
    "tags": []
   },
   "outputs": [],
   "source": [
    "from typing import Tuple\n",
    "\n",
    "def resize_with_pad(image: np.array, \n",
    "                    new_shape: Tuple[int, int], \n",
    "                    padding_color: Tuple[int] = (255, 255, 255)) -> np.array:\n",
    "    original_shape = (image.shape[1], image.shape[0])\n",
    "    ratio = float(max(new_shape))/max(original_shape)\n",
    "    new_size = tuple([int(x*ratio) for x in original_shape])\n",
    "    image = cv2.resize(image, new_size)\n",
    "    delta_w = new_shape[0] - new_size[0]\n",
    "    delta_h = new_shape[1] - new_size[1]\n",
    "    top, bottom = delta_h//2, delta_h-(delta_h//2)\n",
    "    left, right = delta_w//2, delta_w-(delta_w//2)\n",
    "    image = cv2.copyMakeBorder(image, top, bottom, left, right, cv2.BORDER_CONSTANT, value=padding_color)\n",
    "    return image"
   ]
  },
  {
   "cell_type": "code",
   "execution_count": 5,
   "id": "e6834c54",
   "metadata": {
    "execution": {
     "iopub.execute_input": "2022-10-09T09:39:34.946912Z",
     "iopub.status.busy": "2022-10-09T09:39:34.946631Z",
     "iopub.status.idle": "2022-10-09T09:39:34.955837Z",
     "shell.execute_reply": "2022-10-09T09:39:34.955048Z"
    },
    "id": "r3ubzgSJkFcf",
    "papermill": {
     "duration": 0.014163,
     "end_time": "2022-10-09T09:39:34.957880",
     "exception": false,
     "start_time": "2022-10-09T09:39:34.943717",
     "status": "completed"
    },
    "tags": []
   },
   "outputs": [],
   "source": [
    "def test(model_path,data_path,weight_path):\n",
    "    json_file = open(model_path, 'r')\n",
    "    loaded_model_json = json_file.read()\n",
    "    json_file.close()\n",
    "    loaded_model = model_from_json(loaded_model_json)\n",
    "    loaded_model.load_weights(weight_path)\n",
    "    loaded_model.compile(loss='categorical_crossentropy', optimizer=Adam(learning_rate=0.0005),metrics=['accuracy'])\n",
    "    X_val=[]\n",
    "    y_val=[]\n",
    "    path = data_path\n",
    "    for f in os.listdir(path):\n",
    "        y_val.append(os.path.splitext(f)[0])\n",
    "        temp2 = cv2.imread(path+f)\n",
    "        temp2 = cv2.cvtColor(temp2,cv2.COLOR_BGR2YUV)\n",
    "        temp2[:,:,0] = cv2.equalizeHist(temp2[:,:,0])\n",
    "        temp2 = cv2.cvtColor(temp2, cv2.COLOR_YUV2BGR)\n",
    "        temp2 = resize_with_pad(temp2, (256,256))\n",
    "        temp2 = cv2.cvtColor(temp2, cv2.COLOR_BGR2GRAY)\n",
    "        temp2 = np.expand_dims(temp2,axis=2)\n",
    "        X_val.append(temp2)\n",
    "    X_val = np.array(X_val)\n",
    "    X_val = X_val.astype('float32')\n",
    "    X_val/=255\n",
    "    model=loaded_model\n",
    "    y_pred=model.predict(X_val)\n",
    "    prediction=[np.argmax(element) for element in y_pred]\n",
    "    save = pd.DataFrame({'id':y_val,'label':prediction})\n",
    "    save.to_csv('submission.csv',index=False)"
   ]
  },
  {
   "cell_type": "code",
   "execution_count": 6,
   "id": "c798a87e",
   "metadata": {
    "execution": {
     "iopub.execute_input": "2022-10-09T09:39:34.962971Z",
     "iopub.status.busy": "2022-10-09T09:39:34.962694Z",
     "iopub.status.idle": "2022-10-09T09:39:58.077640Z",
     "shell.execute_reply": "2022-10-09T09:39:58.076681Z"
    },
    "papermill": {
     "duration": 23.120325,
     "end_time": "2022-10-09T09:39:58.080121",
     "exception": false,
     "start_time": "2022-10-09T09:39:34.959796",
     "status": "completed"
    },
    "tags": []
   },
   "outputs": [
    {
     "name": "stderr",
     "output_type": "stream",
     "text": [
      "2022-10-09 09:39:35.054058: I tensorflow/stream_executor/cuda/cuda_gpu_executor.cc:937] successful NUMA node read from SysFS had negative value (-1), but there must be at least one NUMA node, so returning NUMA node zero\n",
      "2022-10-09 09:39:35.163686: I tensorflow/stream_executor/cuda/cuda_gpu_executor.cc:937] successful NUMA node read from SysFS had negative value (-1), but there must be at least one NUMA node, so returning NUMA node zero\n",
      "2022-10-09 09:39:35.164501: I tensorflow/stream_executor/cuda/cuda_gpu_executor.cc:937] successful NUMA node read from SysFS had negative value (-1), but there must be at least one NUMA node, so returning NUMA node zero\n",
      "2022-10-09 09:39:35.166324: I tensorflow/core/platform/cpu_feature_guard.cc:142] This TensorFlow binary is optimized with oneAPI Deep Neural Network Library (oneDNN) to use the following CPU instructions in performance-critical operations:  AVX2 AVX512F FMA\n",
      "To enable them in other operations, rebuild TensorFlow with the appropriate compiler flags.\n",
      "2022-10-09 09:39:35.169902: I tensorflow/stream_executor/cuda/cuda_gpu_executor.cc:937] successful NUMA node read from SysFS had negative value (-1), but there must be at least one NUMA node, so returning NUMA node zero\n",
      "2022-10-09 09:39:35.170588: I tensorflow/stream_executor/cuda/cuda_gpu_executor.cc:937] successful NUMA node read from SysFS had negative value (-1), but there must be at least one NUMA node, so returning NUMA node zero\n",
      "2022-10-09 09:39:35.171282: I tensorflow/stream_executor/cuda/cuda_gpu_executor.cc:937] successful NUMA node read from SysFS had negative value (-1), but there must be at least one NUMA node, so returning NUMA node zero\n",
      "2022-10-09 09:39:37.412882: I tensorflow/stream_executor/cuda/cuda_gpu_executor.cc:937] successful NUMA node read from SysFS had negative value (-1), but there must be at least one NUMA node, so returning NUMA node zero\n",
      "2022-10-09 09:39:37.413695: I tensorflow/stream_executor/cuda/cuda_gpu_executor.cc:937] successful NUMA node read from SysFS had negative value (-1), but there must be at least one NUMA node, so returning NUMA node zero\n",
      "2022-10-09 09:39:37.414435: I tensorflow/stream_executor/cuda/cuda_gpu_executor.cc:937] successful NUMA node read from SysFS had negative value (-1), but there must be at least one NUMA node, so returning NUMA node zero\n",
      "2022-10-09 09:39:37.415042: I tensorflow/core/common_runtime/gpu/gpu_device.cc:1510] Created device /job:localhost/replica:0/task:0/device:GPU:0 with 15401 MB memory:  -> device: 0, name: Tesla P100-PCIE-16GB, pci bus id: 0000:00:04.0, compute capability: 6.0\n",
      "2022-10-09 09:39:51.077877: I tensorflow/compiler/mlir/mlir_graph_optimization_pass.cc:185] None of the MLIR Optimization Passes are enabled (registered 2)\n",
      "2022-10-09 09:39:52.140582: I tensorflow/stream_executor/cuda/cuda_dnn.cc:369] Loaded cuDNN version 8005\n"
     ]
    }
   ],
   "source": [
    "test('../input/models/model.json',\"../input/datathonindoml-2022/validation/validation/\",\"../input/models/weights.best.hdf5\")"
   ]
  }
 ],
 "metadata": {
  "kernelspec": {
   "display_name": "Python 3",
   "language": "python",
   "name": "python3"
  },
  "language_info": {
   "codemirror_mode": {
    "name": "ipython",
    "version": 3
   },
   "file_extension": ".py",
   "mimetype": "text/x-python",
   "name": "python",
   "nbconvert_exporter": "python",
   "pygments_lexer": "ipython3",
   "version": "3.7.12"
  },
  "papermill": {
   "default_parameters": {},
   "duration": 39.33285,
   "end_time": "2022-10-09T09:40:00.828743",
   "environment_variables": {},
   "exception": null,
   "input_path": "__notebook__.ipynb",
   "output_path": "__notebook__.ipynb",
   "parameters": {},
   "start_time": "2022-10-09T09:39:21.495893",
   "version": "2.3.4"
  }
 },
 "nbformat": 4,
 "nbformat_minor": 5
}
